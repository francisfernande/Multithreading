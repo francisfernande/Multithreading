{
  "nbformat": 4,
  "nbformat_minor": 0,
  "metadata": {
    "colab": {
      "provenance": [],
      "authorship_tag": "ABX9TyOOLplVA4x2+yR1BIBSWZkg",
      "include_colab_link": true
    },
    "kernelspec": {
      "name": "python3",
      "display_name": "Python 3"
    },
    "language_info": {
      "name": "python"
    }
  },
  "cells": [
    {
      "cell_type": "markdown",
      "metadata": {
        "id": "view-in-github",
        "colab_type": "text"
      },
      "source": [
        "<a href=\"https://colab.research.google.com/github/francisfernande/Multithreading/blob/main/Multi_Process.ipynb\" target=\"_parent\"><img src=\"https://colab.research.google.com/assets/colab-badge.svg\" alt=\"Open In Colab\"/></a>"
      ]
    },
    {
      "cell_type": "code",
      "execution_count": 1,
      "metadata": {
        "id": "we7AGspyehBA"
      },
      "outputs": [],
      "source": [
        "import multiprocessing\n",
        "import time"
      ]
    },
    {
      "cell_type": "code",
      "source": [
        "def sq_num():\n",
        "  for i in range(5):\n",
        "    time.sleep(1)\n",
        "    print(f\"square: {i*i}\")\n",
        "\n",
        "def cube_num():\n",
        "  for i in range(5):\n",
        "    time.sleep(1.5)\n",
        "    print(f\"cube: {i * i * i}\")\n",
        "\n",
        "#entry point\n",
        "if __name__==\"__main__\":\n",
        "\n",
        "  #create 2 seperate process\n",
        "\n",
        "  p1 = multiprocessing.Process(target=sq_num)\n",
        "  p2 = multiprocessing.Process(target=cube_num)\n",
        "\n",
        "  #timmer\n",
        "  t=time.time()\n",
        "\n",
        "  #start process\n",
        "  p1.start()\n",
        "  p2.start()\n",
        "\n",
        "  #wait process to execute\n",
        "  p1.join()\n",
        "  p2.join()\n",
        "\n",
        "  finished_time = time.time()-t\n",
        "  print(finished_time)\n",
        "\n",
        "\n",
        "\n",
        "\n",
        "\n",
        "\n"
      ],
      "metadata": {
        "colab": {
          "base_uri": "https://localhost:8080/"
        },
        "id": "Z3kYz3fwfMZA",
        "outputId": "0c6f49cb-8ad6-47a7-8eeb-67d0852c1bd2"
      },
      "execution_count": 5,
      "outputs": [
        {
          "output_type": "stream",
          "name": "stdout",
          "text": [
            "square: 0\n",
            "cube: 0\n",
            "square: 1\n",
            "square: 4\n",
            "cube: 1\n",
            "square: 9\n",
            "cube: 8\n",
            "square: 16\n",
            "cube: 27\n",
            "cube: 64\n",
            "7.561307668685913\n"
          ]
        }
      ]
    },
    {
      "cell_type": "code",
      "source": [],
      "metadata": {
        "id": "NBrAHvvmgEvb"
      },
      "execution_count": null,
      "outputs": []
    }
  ]
}