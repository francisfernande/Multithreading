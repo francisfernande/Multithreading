{
  "nbformat": 4,
  "nbformat_minor": 0,
  "metadata": {
    "colab": {
      "provenance": [],
      "authorship_tag": "ABX9TyMzevMZeQqO625wNrLb3K5k",
      "include_colab_link": true
    },
    "kernelspec": {
      "name": "python3",
      "display_name": "Python 3"
    },
    "language_info": {
      "name": "python"
    }
  },
  "cells": [
    {
      "cell_type": "markdown",
      "metadata": {
        "id": "view-in-github",
        "colab_type": "text"
      },
      "source": [
        "<a href=\"https://colab.research.google.com/github/francisfernande/Multithreading/blob/main/Multi_Threading.ipynb\" target=\"_parent\"><img src=\"https://colab.research.google.com/assets/colab-badge.svg\" alt=\"Open In Colab\"/></a>"
      ]
    },
    {
      "cell_type": "code",
      "execution_count": 1,
      "metadata": {
        "id": "VGyvcvwtY2qZ"
      },
      "outputs": [],
      "source": [
        "import threading\n",
        "import time"
      ]
    },
    {
      "cell_type": "code",
      "source": [
        "def nums():\n",
        "  for i in range(5):\n",
        "    print(f\"number:{i}\")\n",
        "\n",
        "def letters():\n",
        "  for j in \"abcdef\":\n",
        "    print(f\"letter:{j}\")\n",
        "\n",
        "#start time\n",
        "t=time.time()\n",
        "\n",
        "nums()\n",
        "letters()\n",
        "finished_time=time.time()-t\n",
        "print(finished_time)"
      ],
      "metadata": {
        "colab": {
          "base_uri": "https://localhost:8080/"
        },
        "id": "xToaUPJdY86n",
        "outputId": "d282d556-3e7c-4feb-8aee-b53a905aa105"
      },
      "execution_count": 8,
      "outputs": [
        {
          "output_type": "stream",
          "name": "stdout",
          "text": [
            "number:0\n",
            "number:1\n",
            "number:2\n",
            "number:3\n",
            "number:4\n",
            "letter:a\n",
            "letter:b\n",
            "letter:c\n",
            "letter:d\n",
            "letter:e\n",
            "letter:f\n",
            "0.0038411617279052734\n"
          ]
        }
      ]
    },
    {
      "cell_type": "code",
      "source": [
        "#single threading is running right now\n",
        "\n",
        "def nums():\n",
        "  for i in range(5):\n",
        "    #sleep -> if any I/O is operating\n",
        "    time.sleep(3)\n",
        "    print(f\"number:{i}\")\n",
        "\n",
        "def letters():\n",
        "  for j in \"abcdef\":\n",
        "    #sleep -> if any I/O is operating\n",
        "    time.sleep(3)\n",
        "    print(f\"letter:{j}\")\n",
        "\n",
        "#start time\n",
        "t=time.time()\n",
        "\n",
        "nums()\n",
        "letters()\n",
        "finished_time=time.time()-t\n",
        "print(finished_time)"
      ],
      "metadata": {
        "colab": {
          "base_uri": "https://localhost:8080/"
        },
        "id": "ojdh6t-MZeoc",
        "outputId": "737ab115-abe7-4bf1-fb52-8ac728239dd4"
      },
      "execution_count": 9,
      "outputs": [
        {
          "output_type": "stream",
          "name": "stdout",
          "text": [
            "number:0\n",
            "number:1\n",
            "number:2\n",
            "number:3\n",
            "number:4\n",
            "letter:a\n",
            "letter:b\n",
            "letter:c\n",
            "letter:d\n",
            "letter:e\n",
            "letter:f\n",
            "33.03466320037842\n"
          ]
        }
      ]
    },
    {
      "cell_type": "code",
      "source": [
        "#Multithreading\n",
        "\n",
        "def nums():\n",
        "  for i in range(5):\n",
        "    #sleep -> if any I/O is operating\n",
        "    time.sleep(2)\n",
        "    print(f\"number : {i}\")\n",
        "\n",
        "def letters():\n",
        "  for j in \"abcdef\":\n",
        "    #sleep -> if any I/O is operating\n",
        "    time.sleep(2)\n",
        "    print(f\"letter : {j}\")\n",
        "\n",
        "#Create 2 thread\n",
        "t1 = threading.Thread(target=nums)\n",
        "t2 = threading.Thread(target=letters)\n",
        "\n",
        "#start time\n",
        "t=time.time()\n",
        "\n",
        "#start the thread\n",
        "t1.start()\n",
        "t2.start()\n",
        "\n",
        "##wait for thread to complte\n",
        "t1.join()\n",
        "t2.join()\n",
        "\n",
        "finished_time=time.time()-t\n",
        "print(finished_time)"
      ],
      "metadata": {
        "colab": {
          "base_uri": "https://localhost:8080/"
        },
        "id": "o53V1UL4aV4h",
        "outputId": "2d855e0d-d439-4794-f56f-37fee1f7f474"
      },
      "execution_count": 14,
      "outputs": [
        {
          "output_type": "stream",
          "name": "stdout",
          "text": [
            "number : 0\n",
            "letter : a\n",
            "number : 1\n",
            "letter : b\n",
            "number : 2\n",
            "letter : c\n",
            "number : 3\n",
            "letter : d\n",
            "number : 4\n",
            "letter : e\n",
            "letter : f\n",
            "12.014394044876099\n"
          ]
        }
      ]
    },
    {
      "cell_type": "code",
      "source": [],
      "metadata": {
        "id": "laxNwrQJbNeM"
      },
      "execution_count": null,
      "outputs": []
    }
  ]
}