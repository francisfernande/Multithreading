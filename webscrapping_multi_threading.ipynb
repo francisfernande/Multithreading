{
  "nbformat": 4,
  "nbformat_minor": 0,
  "metadata": {
    "colab": {
      "provenance": [],
      "authorship_tag": "ABX9TyMDzrL07WaZzyKehfKzHRQo",
      "include_colab_link": true
    },
    "kernelspec": {
      "name": "python3",
      "display_name": "Python 3"
    },
    "language_info": {
      "name": "python"
    }
  },
  "cells": [
    {
      "cell_type": "markdown",
      "metadata": {
        "id": "view-in-github",
        "colab_type": "text"
      },
      "source": [
        "<a href=\"https://colab.research.google.com/github/francisfernande/Multithreading/blob/main/webscrapping_multi_threading.ipynb\" target=\"_parent\"><img src=\"https://colab.research.google.com/assets/colab-badge.svg\" alt=\"Open In Colab\"/></a>"
      ]
    },
    {
      "cell_type": "code",
      "execution_count": 1,
      "metadata": {
        "colab": {
          "base_uri": "https://localhost:8080/",
          "height": 35
        },
        "id": "qHEKoSQnp-0B",
        "outputId": "2890ee8f-6468-4dd7-dc59-70d544348db1"
      },
      "outputs": [
        {
          "output_type": "execute_result",
          "data": {
            "text/plain": [
              "'\\n\\nhttps://python.langchain.com/v0.2/docs/introduction/\\n\\nhttps://python.langchain.com/v0.2/docs/concepts/\\n\\nhttps://python.langchain.com/v0.2/docs/tutorials/\\n'"
            ],
            "application/vnd.google.colaboratory.intrinsic+json": {
              "type": "string"
            }
          },
          "metadata": {},
          "execution_count": 1
        }
      ],
      "source": [
        "'''\n",
        "Real-World Example: Multithreading for I/O-bound Tasks\n",
        "Scenario: Web Scraping\n",
        "Web scraping often involves making numerous network requests to\n",
        "fetch web pages. These tasks are I/O-bound because they spend a lot of\n",
        "time waiting for responses from servers. Multithreading can significantly\n",
        "improve the performance by allowing multiple web pages to be fetched concurrently.\n",
        "\n",
        "'''\n",
        "\n",
        "'''\n",
        "\n",
        "https://python.langchain.com/v0.2/docs/introduction/\n",
        "\n",
        "https://python.langchain.com/v0.2/docs/concepts/\n",
        "\n",
        "https://python.langchain.com/v0.2/docs/tutorials/\n",
        "'''"
      ]
    },
    {
      "cell_type": "code",
      "source": [
        "import threading\n",
        "import requests\n",
        "from bs4 import BeautifulSoup"
      ],
      "metadata": {
        "id": "xpzhZcs1qG-S"
      },
      "execution_count": 2,
      "outputs": []
    },
    {
      "cell_type": "code",
      "source": [
        "urls = [\n",
        "'https://python.langchain.com/v0.2/docs/introduction/',\n",
        "\n",
        "'https://python.langchain.com/v0.2/docs/concepts/',\n",
        "\n",
        "'https://python.langchain.com/v0.2/docs/tutorials/'\n",
        "]"
      ],
      "metadata": {
        "id": "bOcVLtHNqQQs"
      },
      "execution_count": 3,
      "outputs": []
    },
    {
      "cell_type": "code",
      "source": [
        "def fetch_content(url):\n",
        "  response = requests.get(url)\n",
        "  soup = BeautifulSoup(response.content,'html.parser')\n",
        "  print(f'Fetched {len(soup.text)} character from {url}')\n",
        ""
      ],
      "metadata": {
        "id": "NGKopTpvqW54"
      },
      "execution_count": 4,
      "outputs": []
    },
    {
      "cell_type": "code",
      "source": [
        "threads=[]\n"
      ],
      "metadata": {
        "id": "7fJM60d9qxKu"
      },
      "execution_count": 5,
      "outputs": []
    },
    {
      "cell_type": "code",
      "source": [
        "for url in urls:\n",
        "    thread=threading.Thread(target=fetch_content,args=(url,))\n",
        "    threads.append(thread)\n",
        "    thread.start()\n",
        "\n",
        "for thread in threads:\n",
        "    thread.join()\n",
        "\n",
        "print(\"All web pages fetched\")"
      ],
      "metadata": {
        "colab": {
          "base_uri": "https://localhost:8080/"
        },
        "id": "9_a14HLnqz3A",
        "outputId": "927a4a35-37a6-4157-d65e-d6fc6604b41b"
      },
      "execution_count": 6,
      "outputs": [
        {
          "output_type": "stream",
          "name": "stdout",
          "text": [
            "Fetched 10735 character from https://python.langchain.com/v0.2/docs/introduction/\n",
            "Fetched 8690 character from https://python.langchain.com/v0.2/docs/tutorials/\n",
            "Fetched 82353 character from https://python.langchain.com/v0.2/docs/concepts/\n",
            "All web pages fetched\n"
          ]
        }
      ]
    },
    {
      "cell_type": "code",
      "source": [],
      "metadata": {
        "id": "LAMhjAVCq2Xr"
      },
      "execution_count": null,
      "outputs": []
    }
  ]
}